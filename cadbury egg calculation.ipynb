{
 "cells": [
  {
   "cell_type": "code",
   "execution_count": 6,
   "id": "ceff5506-fcb8-4ff1-a53c-cbc9133e4be9",
   "metadata": {
    "scrolled": true,
    "tags": []
   },
   "outputs": [
    {
     "name": "stdout",
     "output_type": "stream",
     "text": [
      "Estimated volume of the egg: 666.32 cubic centimeters\n"
     ]
    }
   ],
   "source": [
    "import math\n",
    "\n",
    "def egg_volume(diameter):\n",
    "  \"\"\"\n",
    "  Estimates the volume of an egg assuming an ellipsoid shape.\n",
    "\n",
    "  Args:\n",
    "      diameter (float): The diameter of the egg in centimeters.\n",
    "\n",
    "  Returns:\n",
    "      float: The estimated volume of the egg in cubic centimeters.\n",
    "  \"\"\"\n",
    "  radius = diameter / 2\n",
    "  # Assuming a ratio of 3:2 for major and minor radius of an egg ellipsoid\n",
    "  major_radius = radius\n",
    "  minor_radius = radius * (2/3)\n",
    "  volume = (4/3) * math.pi * major_radius * minor_radius**2\n",
    "  return volume\n",
    "\n",
    "# Example usage\n",
    "egg_diameter = 14.2  # Change this to the actual diameter in centimeters\n",
    "estimated_volume = egg_volume(egg_diameter)\n",
    "\n",
    "print(f\"Estimated volume of the egg: {estimated_volume:.2f} cubic centimeters\")\n"
   ]
  },
  {
   "cell_type": "code",
   "execution_count": 1,
   "id": "51483e9e",
   "metadata": {},
   "outputs": [
    {
     "data": {
      "text/plain": [
       "14.16"
      ]
     },
     "execution_count": 1,
     "metadata": {},
     "output_type": "execute_result"
    }
   ],
   "source": [
    "(1.18*12)"
   ]
  },
  {
   "cell_type": "code",
   "execution_count": 2,
   "id": "767de24b",
   "metadata": {},
   "outputs": [
    {
     "data": {
      "text/plain": [
       "599.6880000000001"
      ]
     },
     "execution_count": 2,
     "metadata": {},
     "output_type": "execute_result"
    }
   ],
   "source": [
    "666.32*.9"
   ]
  },
  {
   "cell_type": "code",
   "execution_count": 3,
   "id": "44256dc0",
   "metadata": {},
   "outputs": [
    {
     "data": {
      "text/plain": [
       "42.350847457627125"
      ]
     },
     "execution_count": 3,
     "metadata": {},
     "output_type": "execute_result"
    }
   ],
   "source": [
    "599.6880000000001/14.16"
   ]
  },
  {
   "cell_type": "code",
   "execution_count": 4,
   "id": "10318dc7",
   "metadata": {},
   "outputs": [
    {
     "data": {
      "text/plain": [
       "21.175423728813563"
      ]
     },
     "execution_count": 4,
     "metadata": {},
     "output_type": "execute_result"
    }
   ],
   "source": [
    "42.350847457627125/2"
   ]
  },
  {
   "cell_type": "code",
   "execution_count": null,
   "id": "cb85b251",
   "metadata": {},
   "outputs": [],
   "source": []
  },
  {
   "cell_type": "code",
   "execution_count": 4,
   "id": "5bd563c4",
   "metadata": {},
   "outputs": [
    {
     "data": {
      "text/plain": [
       "21.175423728813563"
      ]
     },
     "execution_count": 4,
     "metadata": {},
     "output_type": "execute_result"
    }
   ],
   "source": [
    "299.84400000000005/14.16"
   ]
  },
  {
   "cell_type": "code",
   "execution_count": 7,
   "id": "e2649433-8bb7-40e8-8d1b-eb9363f3b927",
   "metadata": {},
   "outputs": [
    {
     "data": {
      "text/plain": [
       "14.16"
      ]
     },
     "execution_count": 7,
     "metadata": {},
     "output_type": "execute_result"
    }
   ],
   "source": [
    "(1.18*12)"
   ]
  },
  {
   "cell_type": "code",
   "execution_count": 4,
   "id": "c7d84bdb-d9cf-40b3-a191-7c6f1b104279",
   "metadata": {
    "tags": []
   },
   "outputs": [
    {
     "data": {
      "text/plain": [
       "42.350988700564976"
      ]
     },
     "execution_count": 4,
     "metadata": {},
     "output_type": "execute_result"
    }
   ],
   "source": [
    "599.69/14.16"
   ]
  },
  {
   "cell_type": "code",
   "execution_count": 5,
   "id": "470f584e-50f9-4647-a3e1-41939203545a",
   "metadata": {
    "tags": []
   },
   "outputs": [
    {
     "data": {
      "text/plain": [
       "21.175494350282488"
      ]
     },
     "execution_count": 5,
     "metadata": {},
     "output_type": "execute_result"
    }
   ],
   "source": [
    "42.350988700564976 /2"
   ]
  },
  {
   "cell_type": "code",
   "execution_count": null,
   "id": "56601d7b-2b76-4407-adb1-be2072198961",
   "metadata": {},
   "outputs": [],
   "source": []
  }
 ],
 "metadata": {
  "kernelspec": {
   "display_name": "Python 3 (ipykernel)",
   "language": "python",
   "name": "python3"
  },
  "language_info": {
   "codemirror_mode": {
    "name": "ipython",
    "version": 3
   },
   "file_extension": ".py",
   "mimetype": "text/x-python",
   "name": "python",
   "nbconvert_exporter": "python",
   "pygments_lexer": "ipython3",
   "version": "3.11.5"
  }
 },
 "nbformat": 4,
 "nbformat_minor": 5
}
